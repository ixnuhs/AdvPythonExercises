{
 "cells": [
  {
   "cell_type": "code",
   "execution_count": 3,
   "metadata": {},
   "outputs": [
    {
     "name": "stdout",
     "output_type": "stream",
     "text": [
      "tensor(0.6930, grad_fn=<NegBackward0>)\n",
      "tensor(0.6922, grad_fn=<NegBackward0>)\n",
      "tensor(0.6913, grad_fn=<NegBackward0>)\n",
      "tensor(0.6902, grad_fn=<NegBackward0>)\n",
      "tensor(0.6888, grad_fn=<NegBackward0>)\n",
      "tensor(0.6869, grad_fn=<NegBackward0>)\n",
      "tensor(0.6846, grad_fn=<NegBackward0>)\n",
      "tensor(0.6815, grad_fn=<NegBackward0>)\n",
      "tensor(0.6778, grad_fn=<NegBackward0>)\n",
      "tensor(0.6732, grad_fn=<NegBackward0>)\n",
      "tensor(0.6680, grad_fn=<NegBackward0>)\n",
      "tensor(0.6623, grad_fn=<NegBackward0>)\n",
      "tensor(0.6565, grad_fn=<NegBackward0>)\n",
      "tensor(0.6509, grad_fn=<NegBackward0>)\n",
      "tensor(0.6460, grad_fn=<NegBackward0>)\n",
      "tensor(0.6418, grad_fn=<NegBackward0>)\n",
      "tensor(0.6383, grad_fn=<NegBackward0>)\n",
      "tensor(0.6356, grad_fn=<NegBackward0>)\n",
      "tensor(0.6335, grad_fn=<NegBackward0>)\n",
      "tensor(0.6319, grad_fn=<NegBackward0>)\n",
      "tensor(0.6307, grad_fn=<NegBackward0>)\n",
      "tensor(0.6298, grad_fn=<NegBackward0>)\n",
      "tensor(0.6291, grad_fn=<NegBackward0>)\n",
      "tensor(0.6285, grad_fn=<NegBackward0>)\n",
      "tensor(0.6281, grad_fn=<NegBackward0>)\n",
      "tensor(0.6277, grad_fn=<NegBackward0>)\n",
      "tensor(0.6275, grad_fn=<NegBackward0>)\n",
      "tensor(0.6272, grad_fn=<NegBackward0>)\n",
      "tensor(0.6271, grad_fn=<NegBackward0>)\n",
      "tensor(0.6269, grad_fn=<NegBackward0>)\n",
      "tensor(0.6268, grad_fn=<NegBackward0>)\n",
      "tensor(0.6267, grad_fn=<NegBackward0>)\n",
      "tensor(0.6266, grad_fn=<NegBackward0>)\n",
      "tensor(0.6266, grad_fn=<NegBackward0>)\n",
      "tensor(0.6265, grad_fn=<NegBackward0>)\n",
      "tensor(0.6264, grad_fn=<NegBackward0>)\n",
      "tensor(0.6264, grad_fn=<NegBackward0>)\n",
      "tensor(0.6263, grad_fn=<NegBackward0>)\n",
      "tensor(0.6263, grad_fn=<NegBackward0>)\n",
      "tensor(0.6262, grad_fn=<NegBackward0>)\n"
     ]
    },
    {
     "ename": "KeyboardInterrupt",
     "evalue": "",
     "output_type": "error",
     "traceback": [
      "\u001b[1;31m---------------------------------------------------------------------------\u001b[0m",
      "\u001b[1;31mKeyboardInterrupt\u001b[0m                         Traceback (most recent call last)",
      "\u001b[1;32md:\\AdvPython\\AdvPythonExercises\\Week3_Exercise\\src\\torch_nn2.py\u001b[0m in \u001b[0;36m<module>\u001b[1;34m\u001b[0m\n\u001b[0;32m     45\u001b[0m \u001b[1;33m\u001b[0m\u001b[0m\n\u001b[0;32m     46\u001b[0m         \u001b[0my_pred\u001b[0m \u001b[1;33m=\u001b[0m \u001b[0mmodel\u001b[0m\u001b[1;33m.\u001b[0m\u001b[0mforward\u001b[0m\u001b[1;33m(\u001b[0m\u001b[0mx\u001b[0m\u001b[1;33m)\u001b[0m\u001b[1;33m\u001b[0m\u001b[1;33m\u001b[0m\u001b[0m\n\u001b[1;32m---> 47\u001b[1;33m         \u001b[0mloss\u001b[0m \u001b[1;33m=\u001b[0m \u001b[0mce_loss\u001b[0m\u001b[1;33m(\u001b[0m\u001b[0my_tgts\u001b[0m\u001b[1;33m,\u001b[0m \u001b[0my_pred\u001b[0m\u001b[1;33m)\u001b[0m\u001b[1;33m\u001b[0m\u001b[1;33m\u001b[0m\u001b[0m\n\u001b[0m\u001b[0;32m     48\u001b[0m \u001b[1;33m\u001b[0m\u001b[0m\n\u001b[0;32m     49\u001b[0m         \u001b[0mloss\u001b[0m\u001b[1;33m.\u001b[0m\u001b[0mbackward\u001b[0m\u001b[1;33m(\u001b[0m\u001b[1;33m)\u001b[0m\u001b[1;33m\u001b[0m\u001b[1;33m\u001b[0m\u001b[0m\n",
      "\u001b[1;32md:\\AdvPython\\AdvPythonExercises\\Week3_Exercise\\src\\torch_nn2.py\u001b[0m in \u001b[0;36m<lambda>\u001b[1;34m(y_tgts, y_pred)\u001b[0m\n\u001b[0;32m      7\u001b[0m \u001b[1;33m\u001b[0m\u001b[0m\n\u001b[0;32m      8\u001b[0m ce_loss = lambda y_tgts, y_pred: - torch.mean(y_tgts * torch.log(y_pred)\\\n\u001b[1;32m----> 9\u001b[1;33m         + (1-y_tgts) * torch.log(1-y_pred))\n\u001b[0m\u001b[0;32m     10\u001b[0m \u001b[1;33m\u001b[0m\u001b[0m\n\u001b[0;32m     11\u001b[0m \u001b[1;32mclass\u001b[0m \u001b[0mMiniMLP\u001b[0m\u001b[1;33m(\u001b[0m\u001b[0mnn\u001b[0m\u001b[1;33m.\u001b[0m\u001b[0mModule\u001b[0m\u001b[1;33m)\u001b[0m\u001b[1;33m:\u001b[0m\u001b[1;33m\u001b[0m\u001b[1;33m\u001b[0m\u001b[0m\n",
      "\u001b[1;31mKeyboardInterrupt\u001b[0m: "
     ]
    }
   ],
   "source": [
    "%run -i \"src\\torch_nn2.py\""
   ]
  },
  {
   "cell_type": "code",
   "execution_count": null,
   "metadata": {},
   "outputs": [],
   "source": [
    "%run -i \"tf_nn2.py\""
   ]
  }
 ],
 "metadata": {
  "kernelspec": {
   "display_name": "Python 3.7.7 ('django')",
   "language": "python",
   "name": "python3"
  },
  "language_info": {
   "codemirror_mode": {
    "name": "ipython",
    "version": 3
   },
   "file_extension": ".py",
   "mimetype": "text/x-python",
   "name": "python",
   "nbconvert_exporter": "python",
   "pygments_lexer": "ipython3",
   "version": "3.7.7"
  },
  "orig_nbformat": 4,
  "vscode": {
   "interpreter": {
    "hash": "9d60d1791a39080a9918029cbe1623c36f711b141f01a9c04b2c3274d89db7b6"
   }
  }
 },
 "nbformat": 4,
 "nbformat_minor": 2
}
