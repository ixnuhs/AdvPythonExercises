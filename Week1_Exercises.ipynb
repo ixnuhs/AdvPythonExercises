{
  "cells": [
    {
      "cell_type": "markdown",
      "metadata": {
        "id": "W9WNVv9iUm0X"
      },
      "source": [
        "## Numpy"
      ]
    },
    {
      "cell_type": "code",
      "execution_count": 1,
      "metadata": {
        "id": "sxi83B8qUpv5"
      },
      "outputs": [],
      "source": [
        "import numpy as np"
      ]
    },
    {
      "cell_type": "markdown",
      "metadata": {
        "id": "YwyT3EQxVCgm"
      },
      "source": [
        "1. Create an `ndarray` of shape (3,5). All values of the array are 100."
      ]
    },
    {
      "cell_type": "code",
      "execution_count": 2,
      "metadata": {
        "id": "bdsABaxNUqVr"
      },
      "outputs": [
        {
          "name": "stdout",
          "output_type": "stream",
          "text": [
            "[[100 100 100 100 100]\n",
            " [100 100 100 100 100]\n",
            " [100 100 100 100 100]]\n"
          ]
        }
      ],
      "source": [
        "arr = np.full((3, 5), 100)\n",
        "print(arr)"
      ]
    },
    {
      "cell_type": "markdown",
      "metadata": {
        "id": "iYTCppLJVU3O"
      },
      "source": [
        "2. Create a border of zeros that surround the result in Question 1, so that the output is of shape (5,7), the outside values are 0 and the inside values are 100. "
      ]
    },
    {
      "cell_type": "code",
      "execution_count": 3,
      "metadata": {
        "id": "zYVIlzrrUqYY"
      },
      "outputs": [
        {
          "name": "stdout",
          "output_type": "stream",
          "text": [
            "[[  0.   0.   0.   0.   0.   0.   0.]\n",
            " [  0. 100. 100. 100. 100. 100.   0.]\n",
            " [  0. 100. 100. 100. 100. 100.   0.]\n",
            " [  0. 100. 100. 100. 100. 100.   0.]\n",
            " [  0.   0.   0.   0.   0.   0.   0.]]\n"
          ]
        }
      ],
      "source": [
        "board = np.zeros((5, 7))\n",
        "board[1:1+arr.shape[0], 1:1+arr.shape[1]] = arr\n",
        "print(board)"
      ]
    },
    {
      "cell_type": "markdown",
      "metadata": {
        "id": "YDJndwA2V1Af"
      },
      "source": [
        "3. Create a 5x5 matrix with values 1,2,3,4 just below the diagonal.\n"
      ]
    },
    {
      "cell_type": "code",
      "execution_count": 4,
      "metadata": {
        "id": "MGK4UJutUqd3"
      },
      "outputs": [
        {
          "name": "stdout",
          "output_type": "stream",
          "text": [
            "[[0. 0. 0. 0. 0.]\n",
            " [1. 0. 0. 0. 0.]\n",
            " [0. 2. 0. 0. 0.]\n",
            " [0. 0. 3. 0. 0.]\n",
            " [0. 0. 0. 4. 0.]]\n"
          ]
        }
      ],
      "source": [
        "diag = np.zeros((5,5))\n",
        "for i in range(diag.shape[0] - 1):\n",
        "    diag[i + 1, i] = i + 1\n",
        "print(diag)\n"
      ]
    },
    {
      "cell_type": "markdown",
      "metadata": {
        "id": "NYrOwCPzWMeD"
      },
      "source": [
        "4. Create a checkerboard 8x8 matrix using the tile function"
      ]
    },
    {
      "cell_type": "code",
      "execution_count": 5,
      "metadata": {
        "id": "3pEOA810WL07"
      },
      "outputs": [
        {
          "name": "stdout",
          "output_type": "stream",
          "text": [
            "[[0 1 0 1 0 1 0 1]\n",
            " [1 0 1 0 1 0 1 0]\n",
            " [0 1 0 1 0 1 0 1]\n",
            " [1 0 1 0 1 0 1 0]\n",
            " [0 1 0 1 0 1 0 1]\n",
            " [1 0 1 0 1 0 1 0]\n",
            " [0 1 0 1 0 1 0 1]\n",
            " [1 0 1 0 1 0 1 0]]\n"
          ]
        }
      ],
      "source": [
        "strip = np.array([[0,1],[1,0]])\n",
        "checkboard = np.tile(strip, (4, 4))\n",
        "print(checkboard)"
      ]
    },
    {
      "cell_type": "markdown",
      "metadata": {
        "id": "1HNTk70SWHjV"
      },
      "source": [
        "5. Sort a 2d-array by the nth column"
      ]
    },
    {
      "cell_type": "code",
      "execution_count": 6,
      "metadata": {
        "id": "9cxSyDIkUqgi"
      },
      "outputs": [
        {
          "name": "stdout",
          "output_type": "stream",
          "text": [
            "[[9.65549767e-01 2.04498831e-01 3.70093136e-01 1.90465893e-02\n",
            "  2.16913764e-01 6.92557519e-01 1.67459013e-01 5.42564627e-01\n",
            "  3.27291655e-01 6.17149786e-02]\n",
            " [5.93771653e-01 2.73850972e-01 6.44743360e-01 8.96352131e-01\n",
            "  4.38344791e-01 7.16929626e-01 1.82559765e-01 6.86183296e-01\n",
            "  8.78443368e-01 8.31907892e-01]\n",
            " [9.51060605e-01 9.62605682e-01 1.23616451e-01 4.44477589e-01\n",
            "  3.64507073e-01 1.21910714e-01 2.17081169e-01 5.69690486e-02\n",
            "  8.59118748e-01 7.05897441e-02]\n",
            " [3.55591685e-01 2.96719293e-01 1.04372903e-02 1.64189985e-01\n",
            "  7.01787170e-01 6.26736408e-01 5.49174044e-01 9.75603090e-01\n",
            "  3.69265408e-01 8.91075347e-01]\n",
            " [3.93449411e-01 9.16780792e-01 1.07905974e-01 1.32516591e-01\n",
            "  5.55983445e-02 9.02550432e-01 5.81413999e-01 2.72160777e-01\n",
            "  9.20724692e-01 7.11880075e-01]\n",
            " [3.96571936e-04 8.14783955e-01 1.45429952e-01 3.09030264e-01\n",
            "  4.08336758e-01 5.60252396e-01 7.48318799e-01 5.06300967e-01\n",
            "  3.90815223e-01 3.42442490e-01]\n",
            " [8.92752203e-01 5.12362296e-01 5.11287921e-01 7.05973010e-01\n",
            "  9.05945731e-01 6.87463409e-02 7.99248090e-01 4.36426635e-01\n",
            "  4.65008308e-01 5.95360051e-01]\n",
            " [6.04744056e-01 4.31208320e-01 6.39277054e-01 5.12809690e-01\n",
            "  8.76677757e-01 4.62666538e-01 9.07448923e-01 1.21907707e-01\n",
            "  4.41929136e-01 1.34019776e-01]\n",
            " [2.50999491e-01 9.99312291e-01 4.34052242e-01 8.23836472e-01\n",
            "  8.85775335e-01 7.81887873e-01 9.15194916e-01 9.85965418e-02\n",
            "  7.63256054e-01 9.23947472e-02]\n",
            " [9.88247751e-01 7.74573803e-01 9.75609882e-01 3.01347492e-01\n",
            "  2.51351315e-01 3.97736076e-01 9.61247133e-01 4.34498095e-01\n",
            "  8.09507471e-01 6.54560494e-01]]\n"
          ]
        }
      ],
      "source": [
        "rand_arr = np.random.rand(10, 10)\n",
        "nth_col = 6\n",
        "sort_arr = rand_arr[np.argsort(rand_arr[:, nth_col])]\n",
        "print(sort_arr)"
      ]
    },
    {
      "cell_type": "markdown",
      "metadata": {
        "id": "z__MABZ1W19Z"
      },
      "source": [
        "6. Compute a matrix rank"
      ]
    },
    {
      "cell_type": "code",
      "execution_count": 7,
      "metadata": {
        "id": "EKcIavS4UqjG"
      },
      "outputs": [
        {
          "data": {
            "text/plain": [
              "4"
            ]
          },
          "execution_count": 7,
          "metadata": {},
          "output_type": "execute_result"
        }
      ],
      "source": [
        "np.linalg.matrix_rank(np.eye(4))"
      ]
    },
    {
      "cell_type": "markdown",
      "metadata": {
        "id": "Edizw3vbXOC6"
      },
      "source": [
        "7. Consider an array of dimension (5,5,3), how to mulitply it by an array with dimensions (5,5)?"
      ]
    },
    {
      "cell_type": "code",
      "execution_count": 8,
      "metadata": {
        "id": "JITZPgiyXhHJ"
      },
      "outputs": [],
      "source": [
        "n1 = np.random.randint(10, size=(5, 5, 3))\n",
        "n2 = np.random.randint(10, size=(5, 5))\n",
        "product = n1 * n2[:,:,np.newaxis]"
      ]
    },
    {
      "cell_type": "markdown",
      "metadata": {
        "id": "toN4wwRfXhka"
      },
      "source": [
        "8. Consider a 16x16 array, how to get the block-sum (block size is 4x4)?"
      ]
    },
    {
      "cell_type": "code",
      "execution_count": 9,
      "metadata": {
        "id": "ZxEeQA4DXh5W"
      },
      "outputs": [],
      "source": [
        "rand_2 = np.random.randint(10, size=(16, 16))\n",
        "sum_arr2 = rand_2.reshape(4,4,4,4).sum(axis=(1,3))"
      ]
    },
    {
      "cell_type": "markdown",
      "metadata": {
        "id": "L15y9mOiXirL"
      },
      "source": [
        "9. Get the n largest values of an array"
      ]
    },
    {
      "cell_type": "code",
      "execution_count": 11,
      "metadata": {
        "id": "-tp-G1PpXi-3"
      },
      "outputs": [
        {
          "name": "stdout",
          "output_type": "stream",
          "text": [
            "[[0.39238683 0.16580627 0.37560263 0.49361291 0.15612707 0.08741449\n",
            "  0.71655609 0.77495269 0.46872513 0.01520342]\n",
            " [0.29603495 0.53917269 0.68834457 0.75650094 0.84168882 0.51537311\n",
            "  0.93572369 0.67193056 0.39764428 0.11204518]\n",
            " [0.5054558  0.21437057 0.22893857 0.0895668  0.38859574 0.69387191\n",
            "  0.15156283 0.65827634 0.08339113 0.87802149]\n",
            " [0.92830144 0.75321234 0.95074573 0.44906887 0.50410035 0.30238758\n",
            "  0.17929575 0.27446624 0.93348508 0.26438285]\n",
            " [0.38241341 0.89743289 0.04182949 0.94025593 0.67554861 0.02898007\n",
            "  0.7506179  0.64870352 0.70280496 0.98584924]\n",
            " [0.56869569 0.10205461 0.33343004 0.35474567 0.18002474 0.18784772\n",
            "  0.40109287 0.80560689 0.94289362 0.12827742]\n",
            " [0.36329482 0.00247012 0.32014274 0.95918089 0.22906159 0.26080218\n",
            "  0.64157712 0.33345961 0.98618508 0.62235365]\n",
            " [0.64889597 0.98110263 0.41366767 0.70305732 0.41301418 0.48845399\n",
            "  0.36862041 0.78624287 0.21522228 0.28318377]\n",
            " [0.19643813 0.51067225 0.19877232 0.65962003 0.17594069 0.93543313\n",
            "  0.74307698 0.66781981 0.21327229 0.55253518]\n",
            " [0.11087818 0.15009561 0.44992764 0.47359636 0.53782711 0.06381059\n",
            "  0.62191781 0.7597242  0.49582062 0.43671001]]\n"
          ]
        },
        {
          "data": {
            "text/plain": [
              "0.9861850768813856"
            ]
          },
          "execution_count": 11,
          "metadata": {},
          "output_type": "execute_result"
        }
      ],
      "source": [
        "rand_3 =  np.random.rand(10, 10)\n",
        "print(rand_3)\n",
        "np.max(rand_3)"
      ]
    },
    {
      "cell_type": "markdown",
      "metadata": {
        "id": "_cI2xR4mXjJd"
      },
      "source": [
        "10. Implement the Game of Life using numpy arrays"
      ]
    },
    {
      "cell_type": "code",
      "execution_count": 55,
      "metadata": {
        "id": "2PQX2EnnUqlr"
      },
      "outputs": [],
      "source": [
        "# reference from https://www.jpytr.com/post/game_of_life/\n",
        "def play_game(size=(50, 50), initial_prob_life=0.5, animation_kwargs=None, marker_size=300):\n",
        "    \"\"\"\n",
        "    Implementation of Conway's Game of Life\n",
        "    \"\"\"\n",
        "    board = get_board(size)\n",
        "    status = get_init_status(size, initial_prob_life)\n",
        "    \n",
        "    fig, axes = plt.subplots(figsize=(15, 15))\n",
        "    scatter = axes.scatter(*board, animated=True, s=marker_size, edgecolor=None)\n",
        "    axes.text(0.5, 0.965, \"CONWAY'S \", transform=axes.transAxes, ha=\"right\", va=\"bottom\", color=\"w\", fontsize=25,\n",
        "              family=\"sans-serif\", fontweight=\"light\")\n",
        "    axes.text(0.5, 0.965, \"GAME OF LIFE\", transform=axes.transAxes, ha=\"left\", va=\"bottom\", color=\"dodgerblue\",\n",
        "              fontsize=25, family=\"sans-serif\", fontweight=\"bold\")\n",
        "    axes.set_facecolor(\"black\")\n",
        "    axes.get_xaxis().set_visible(False)\n",
        "    axes.get_yaxis().set_visible(False)\n",
        "        \n",
        "    def update(frame):\n",
        "        nonlocal status\n",
        "        status, live_neigbors = apply_conways_game_of_life_rules(status)\n",
        "        colors = get_updated_colors(status, live_neigbors)\n",
        "        scatter.set_facecolor(colors)\n",
        "        return scatter\n",
        "    \n",
        "    animation_kwargs = {} if animation_kwargs is None else animation_kwargs\n",
        "    return FuncAnimation(fig, update, **animation_kwargs)\n",
        "\n",
        "def get_board(size):\n",
        "    xs = np.arange(0, size[0])\n",
        "    ys = np.arange(0, size[1])\n",
        "    board = np.meshgrid(xs, ys)\n",
        "    return board\n",
        "\n",
        "def get_init_status(size, initial_prob_life):\n",
        "    status = np.random.uniform(0, 1, size=size) <= initial_prob_life\n",
        "    return status\n",
        "\n",
        "def apply_conways_game_of_life_rules(status):\n",
        "    \"\"\"Applies Conway's Game of Life rules given the current status of the game\n",
        "    \n",
        "    Rules:\n",
        "        1. Any live cell with fewer than two live neighbors dies, as if by underpopulation.\n",
        "        2. Any live cell with two or three live neighbors lives on to the next generation.\n",
        "        3. Any live cell with more than three live neighbors dies, as if by overpopulation.\n",
        "        4. Any dead cell with exactly three live neighbors becomes a live cell, as if by reproduction.\n",
        "        \n",
        "    Returns\n",
        "    -------\n",
        "    new_status, new_neighbors: tuple\n",
        "        A tuple containing an array representing the new status of each square on the board, and a second array\n",
        "        representing the number of neighbors post update\n",
        "    \n",
        "    \"\"\"\n",
        "    live_neighbors = count_live_neighbors(status)\n",
        "    survive_underpopulation = live_neighbors >= 2\n",
        "    survive_overpopulation = live_neighbors <= 3\n",
        "    survive = status * survive_underpopulation * survive_overpopulation\n",
        "    new_status = np.where(live_neighbors==3, True, survive)  # Reproduce\n",
        "    new_neighbors = count_live_neighbors(new_status)\n",
        "    return new_status, new_neighbors \n",
        "\n",
        "def count_live_neighbors(status):\n",
        "    \"\"\"Counts the number of neighboring live cells\"\"\"\n",
        "    kernel = np.array(\n",
        "        [[1, 1, 1],\n",
        "         [1, 0, 1],\n",
        "         [1, 1, 1]]\n",
        "    )\n",
        "    c = convolve2d(status, kernel, mode='same', boundary=\"wrap\")\n",
        "    return c\n",
        "\n",
        "def get_updated_colors(status, c):\n",
        "    cmap = mpl.cm.Blues_r\n",
        "    rescale = c / 8  # Maximum of 8 neighbors\n",
        "    colors = [cmap(neighbors) for neighbors in rescale.flatten()]\n",
        "    is_live = status.flatten()\n",
        "    colors = [(r, g, b, 0.9) if live else (r, g, b, 0) for live, (r, g, b, a) in zip(is_live, colors)]\n",
        "    return colors\n",
        "\n",
        "for i in range(5):\n",
        "    ani = play_game(\n",
        "        size=(100, 100),\n",
        "        marker_size=100,\n",
        "        initial_prob_life=0.5,\n",
        "        animation_kwargs={\n",
        "            \"frames\": 300,\n",
        "        }\n",
        "    )\n",
        "\n",
        "    ani.save(f'game_of_life_{i}.mp4',\n",
        "             writer=animation.FFMpegFileWriter())"
      ]
    },
    {
      "cell_type": "markdown",
      "metadata": {
        "id": "JjTspHcYYy1r"
      },
      "source": [
        "Check https://github.com/rougier/numpy-100/blob/master/100_Numpy_exercises.ipynb for more Numpy exercises."
      ]
    },
    {
      "cell_type": "markdown",
      "metadata": {
        "id": "duxYLMSbUrIy"
      },
      "source": [
        "## Pandas"
      ]
    },
    {
      "cell_type": "code",
      "execution_count": 12,
      "metadata": {
        "id": "X3JdMd73UsfF"
      },
      "outputs": [],
      "source": [
        "import pandas as pd\n",
        "import seaborn as sb"
      ]
    },
    {
      "cell_type": "markdown",
      "metadata": {
        "id": "gTqmqHeXYpA9"
      },
      "source": [
        "1. Using NumPy, create a Pandas DataFrame with five rows and three columns"
      ]
    },
    {
      "cell_type": "code",
      "execution_count": 13,
      "metadata": {
        "id": "5VtgfgDSUtDq"
      },
      "outputs": [
        {
          "name": "stdout",
          "output_type": "stream",
          "text": [
            "     0    1    2\n",
            "0  NaN  NaN  NaN\n",
            "1  NaN  NaN  NaN\n",
            "2  NaN  NaN  NaN\n",
            "3  NaN  NaN  NaN\n",
            "4  NaN  NaN  NaN\n"
          ]
        }
      ],
      "source": [
        "d = pd.DataFrame(index=np.arange(5), columns=np.arange(3))\n",
        "print(d)"
      ]
    },
    {
      "cell_type": "markdown",
      "metadata": {
        "id": "9qC1OJHFYryX"
      },
      "source": [
        "The following six questions depend on the penguins dataset."
      ]
    },
    {
      "cell_type": "code",
      "execution_count": 14,
      "metadata": {
        "id": "iz_sYU_7UtGZ"
      },
      "outputs": [],
      "source": [
        "df_penguins = sb.load_dataset('penguins')"
      ]
    },
    {
      "cell_type": "markdown",
      "metadata": {
        "id": "zewpETumaw2B"
      },
      "source": [
        "2. What function can we use to drop the rows that have missing data?"
      ]
    },
    {
      "cell_type": "code",
      "execution_count": 15,
      "metadata": {
        "id": "GzqdIEsqayY9"
      },
      "outputs": [],
      "source": [
        "df_full = df_penguins.dropna()"
      ]
    },
    {
      "cell_type": "markdown",
      "metadata": {
        "id": "H5-OiNdwazAl"
      },
      "source": [
        "3. By default, will the function in Question 2 modify df_penguins or will it return a copy?"
      ]
    },
    {
      "cell_type": "markdown",
      "metadata": {},
      "source": [
        "It returns a copy."
      ]
    },
    {
      "cell_type": "markdown",
      "metadata": {
        "id": "fGpQs-HxbE-4"
      },
      "source": [
        "4. Let df_full be the dataframe obtained from dropping rows with missing data. What is the average bill length of a penguin, in millimeters, in this (df_full) data set?"
      ]
    },
    {
      "cell_type": "code",
      "execution_count": 16,
      "metadata": {},
      "outputs": [
        {
          "data": {
            "text/plain": [
              "43.99279279279279"
            ]
          },
          "execution_count": 16,
          "metadata": {},
          "output_type": "execute_result"
        }
      ],
      "source": [
        "df_full[\"bill_length_mm\"].mean()"
      ]
    },
    {
      "cell_type": "markdown",
      "metadata": {
        "id": "8G2PTyWXZu3Q"
      },
      "source": [
        "5. Which species has the longest flippers?"
      ]
    },
    {
      "cell_type": "code",
      "execution_count": 17,
      "metadata": {
        "id": "3t2CXujeUtJO"
      },
      "outputs": [
        {
          "data": {
            "text/html": [
              "<div>\n",
              "<style scoped>\n",
              "    .dataframe tbody tr th:only-of-type {\n",
              "        vertical-align: middle;\n",
              "    }\n",
              "\n",
              "    .dataframe tbody tr th {\n",
              "        vertical-align: top;\n",
              "    }\n",
              "\n",
              "    .dataframe thead th {\n",
              "        text-align: right;\n",
              "    }\n",
              "</style>\n",
              "<table border=\"1\" class=\"dataframe\">\n",
              "  <thead>\n",
              "    <tr style=\"text-align: right;\">\n",
              "      <th></th>\n",
              "      <th>bill_length_mm</th>\n",
              "      <th>bill_depth_mm</th>\n",
              "      <th>flipper_length_mm</th>\n",
              "      <th>body_mass_g</th>\n",
              "    </tr>\n",
              "    <tr>\n",
              "      <th>species</th>\n",
              "      <th></th>\n",
              "      <th></th>\n",
              "      <th></th>\n",
              "      <th></th>\n",
              "    </tr>\n",
              "  </thead>\n",
              "  <tbody>\n",
              "    <tr>\n",
              "      <th>Adelie</th>\n",
              "      <td>38.823973</td>\n",
              "      <td>18.347260</td>\n",
              "      <td>190.102740</td>\n",
              "      <td>3706.164384</td>\n",
              "    </tr>\n",
              "    <tr>\n",
              "      <th>Chinstrap</th>\n",
              "      <td>48.833824</td>\n",
              "      <td>18.420588</td>\n",
              "      <td>195.823529</td>\n",
              "      <td>3733.088235</td>\n",
              "    </tr>\n",
              "    <tr>\n",
              "      <th>Gentoo</th>\n",
              "      <td>47.568067</td>\n",
              "      <td>14.996639</td>\n",
              "      <td>217.235294</td>\n",
              "      <td>5092.436975</td>\n",
              "    </tr>\n",
              "  </tbody>\n",
              "</table>\n",
              "</div>"
            ],
            "text/plain": [
              "           bill_length_mm  bill_depth_mm  flipper_length_mm  body_mass_g\n",
              "species                                                                 \n",
              "Adelie          38.823973      18.347260         190.102740  3706.164384\n",
              "Chinstrap       48.833824      18.420588         195.823529  3733.088235\n",
              "Gentoo          47.568067      14.996639         217.235294  5092.436975"
            ]
          },
          "execution_count": 17,
          "metadata": {},
          "output_type": "execute_result"
        }
      ],
      "source": [
        "df_full.groupby(\"species\").mean()"
      ]
    },
    {
      "cell_type": "markdown",
      "metadata": {},
      "source": [
        "Gentoo"
      ]
    },
    {
      "cell_type": "markdown",
      "metadata": {
        "id": "1cIOry3KZwVt"
      },
      "source": [
        "6. Which two species have the most similar mean weight?"
      ]
    },
    {
      "cell_type": "markdown",
      "metadata": {},
      "source": [
        "   Adelie & Chinstrap"
      ]
    },
    {
      "cell_type": "markdown",
      "metadata": {
        "id": "KwYXrDn8Z1Zs"
      },
      "source": [
        "7. How could you sort by species first, then by body mass?"
      ]
    },
    {
      "cell_type": "code",
      "execution_count": 18,
      "metadata": {
        "id": "rPfIrl1HdHWf"
      },
      "outputs": [
        {
          "data": {
            "text/html": [
              "<div>\n",
              "<style scoped>\n",
              "    .dataframe tbody tr th:only-of-type {\n",
              "        vertical-align: middle;\n",
              "    }\n",
              "\n",
              "    .dataframe tbody tr th {\n",
              "        vertical-align: top;\n",
              "    }\n",
              "\n",
              "    .dataframe thead th {\n",
              "        text-align: right;\n",
              "    }\n",
              "</style>\n",
              "<table border=\"1\" class=\"dataframe\">\n",
              "  <thead>\n",
              "    <tr style=\"text-align: right;\">\n",
              "      <th></th>\n",
              "      <th>species</th>\n",
              "      <th>island</th>\n",
              "      <th>bill_length_mm</th>\n",
              "      <th>bill_depth_mm</th>\n",
              "      <th>flipper_length_mm</th>\n",
              "      <th>body_mass_g</th>\n",
              "      <th>sex</th>\n",
              "    </tr>\n",
              "  </thead>\n",
              "  <tbody>\n",
              "    <tr>\n",
              "      <th>58</th>\n",
              "      <td>Adelie</td>\n",
              "      <td>Biscoe</td>\n",
              "      <td>36.5</td>\n",
              "      <td>16.6</td>\n",
              "      <td>181.0</td>\n",
              "      <td>2850.0</td>\n",
              "      <td>Female</td>\n",
              "    </tr>\n",
              "    <tr>\n",
              "      <th>64</th>\n",
              "      <td>Adelie</td>\n",
              "      <td>Biscoe</td>\n",
              "      <td>36.4</td>\n",
              "      <td>17.1</td>\n",
              "      <td>184.0</td>\n",
              "      <td>2850.0</td>\n",
              "      <td>Female</td>\n",
              "    </tr>\n",
              "    <tr>\n",
              "      <th>54</th>\n",
              "      <td>Adelie</td>\n",
              "      <td>Biscoe</td>\n",
              "      <td>34.5</td>\n",
              "      <td>18.1</td>\n",
              "      <td>187.0</td>\n",
              "      <td>2900.0</td>\n",
              "      <td>Female</td>\n",
              "    </tr>\n",
              "    <tr>\n",
              "      <th>98</th>\n",
              "      <td>Adelie</td>\n",
              "      <td>Dream</td>\n",
              "      <td>33.1</td>\n",
              "      <td>16.1</td>\n",
              "      <td>178.0</td>\n",
              "      <td>2900.0</td>\n",
              "      <td>Female</td>\n",
              "    </tr>\n",
              "    <tr>\n",
              "      <th>116</th>\n",
              "      <td>Adelie</td>\n",
              "      <td>Torgersen</td>\n",
              "      <td>38.6</td>\n",
              "      <td>17.0</td>\n",
              "      <td>188.0</td>\n",
              "      <td>2900.0</td>\n",
              "      <td>Female</td>\n",
              "    </tr>\n",
              "    <tr>\n",
              "      <th>...</th>\n",
              "      <td>...</td>\n",
              "      <td>...</td>\n",
              "      <td>...</td>\n",
              "      <td>...</td>\n",
              "      <td>...</td>\n",
              "      <td>...</td>\n",
              "      <td>...</td>\n",
              "    </tr>\n",
              "    <tr>\n",
              "      <th>331</th>\n",
              "      <td>Gentoo</td>\n",
              "      <td>Biscoe</td>\n",
              "      <td>49.8</td>\n",
              "      <td>15.9</td>\n",
              "      <td>229.0</td>\n",
              "      <td>5950.0</td>\n",
              "      <td>Male</td>\n",
              "    </tr>\n",
              "    <tr>\n",
              "      <th>297</th>\n",
              "      <td>Gentoo</td>\n",
              "      <td>Biscoe</td>\n",
              "      <td>51.1</td>\n",
              "      <td>16.3</td>\n",
              "      <td>220.0</td>\n",
              "      <td>6000.0</td>\n",
              "      <td>Male</td>\n",
              "    </tr>\n",
              "    <tr>\n",
              "      <th>337</th>\n",
              "      <td>Gentoo</td>\n",
              "      <td>Biscoe</td>\n",
              "      <td>48.8</td>\n",
              "      <td>16.2</td>\n",
              "      <td>222.0</td>\n",
              "      <td>6000.0</td>\n",
              "      <td>Male</td>\n",
              "    </tr>\n",
              "    <tr>\n",
              "      <th>253</th>\n",
              "      <td>Gentoo</td>\n",
              "      <td>Biscoe</td>\n",
              "      <td>59.6</td>\n",
              "      <td>17.0</td>\n",
              "      <td>230.0</td>\n",
              "      <td>6050.0</td>\n",
              "      <td>Male</td>\n",
              "    </tr>\n",
              "    <tr>\n",
              "      <th>237</th>\n",
              "      <td>Gentoo</td>\n",
              "      <td>Biscoe</td>\n",
              "      <td>49.2</td>\n",
              "      <td>15.2</td>\n",
              "      <td>221.0</td>\n",
              "      <td>6300.0</td>\n",
              "      <td>Male</td>\n",
              "    </tr>\n",
              "  </tbody>\n",
              "</table>\n",
              "<p>333 rows × 7 columns</p>\n",
              "</div>"
            ],
            "text/plain": [
              "    species     island  bill_length_mm  bill_depth_mm  flipper_length_mm  \\\n",
              "58   Adelie     Biscoe            36.5           16.6              181.0   \n",
              "64   Adelie     Biscoe            36.4           17.1              184.0   \n",
              "54   Adelie     Biscoe            34.5           18.1              187.0   \n",
              "98   Adelie      Dream            33.1           16.1              178.0   \n",
              "116  Adelie  Torgersen            38.6           17.0              188.0   \n",
              "..      ...        ...             ...            ...                ...   \n",
              "331  Gentoo     Biscoe            49.8           15.9              229.0   \n",
              "297  Gentoo     Biscoe            51.1           16.3              220.0   \n",
              "337  Gentoo     Biscoe            48.8           16.2              222.0   \n",
              "253  Gentoo     Biscoe            59.6           17.0              230.0   \n",
              "237  Gentoo     Biscoe            49.2           15.2              221.0   \n",
              "\n",
              "     body_mass_g     sex  \n",
              "58        2850.0  Female  \n",
              "64        2850.0  Female  \n",
              "54        2900.0  Female  \n",
              "98        2900.0  Female  \n",
              "116       2900.0  Female  \n",
              "..           ...     ...  \n",
              "331       5950.0    Male  \n",
              "297       6000.0    Male  \n",
              "337       6000.0    Male  \n",
              "253       6050.0    Male  \n",
              "237       6300.0    Male  \n",
              "\n",
              "[333 rows x 7 columns]"
            ]
          },
          "execution_count": 18,
          "metadata": {},
          "output_type": "execute_result"
        }
      ],
      "source": [
        "df_full.sort_values(by = [\"species\", \"body_mass_g\"], ascending = [True, True])"
      ]
    },
    {
      "cell_type": "markdown",
      "metadata": {
        "id": "bRR0ove1aLBL"
      },
      "source": [
        "The following three questions depend on the taxis dataset."
      ]
    },
    {
      "cell_type": "code",
      "execution_count": 19,
      "metadata": {
        "id": "UXIN5IwbUtOd"
      },
      "outputs": [],
      "source": [
        "df_taxis = sb.load_dataset('taxis')"
      ]
    },
    {
      "cell_type": "markdown",
      "metadata": {
        "id": "3oh5_pHEbrQp"
      },
      "source": [
        "8. The 'pickup' column contains the date and time the customer picked up, but it's a string.  Add a column to the DataFrame, 'pickup_time', containing the value in 'pickup' as a DateTime."
      ]
    },
    {
      "cell_type": "code",
      "execution_count": 20,
      "metadata": {
        "id": "coNwd-OjUtTp"
      },
      "outputs": [],
      "source": [
        "df_taxis[\"pickup_time\"] = pd.to_datetime(df_taxis[\"pickup\"])"
      ]
    },
    {
      "cell_type": "markdown",
      "metadata": {
        "id": "f7rfz-d2cSRe"
      },
      "source": [
        "9. Create a subset of the dataframe to create a new DataFrame, taxis_one_day. This new DataFrame should have pickup_time values between '2019-03-23 00:06:00' (inclusive) and '2019-03-24 00:00:00' (exlusive)."
      ]
    },
    {
      "cell_type": "code",
      "execution_count": 21,
      "metadata": {
        "id": "AfcUTYPVbjAK"
      },
      "outputs": [
        {
          "data": {
            "text/html": [
              "<div>\n",
              "<style scoped>\n",
              "    .dataframe tbody tr th:only-of-type {\n",
              "        vertical-align: middle;\n",
              "    }\n",
              "\n",
              "    .dataframe tbody tr th {\n",
              "        vertical-align: top;\n",
              "    }\n",
              "\n",
              "    .dataframe thead th {\n",
              "        text-align: right;\n",
              "    }\n",
              "</style>\n",
              "<table border=\"1\" class=\"dataframe\">\n",
              "  <thead>\n",
              "    <tr style=\"text-align: right;\">\n",
              "      <th></th>\n",
              "      <th>pickup</th>\n",
              "      <th>dropoff</th>\n",
              "      <th>passengers</th>\n",
              "      <th>distance</th>\n",
              "      <th>fare</th>\n",
              "      <th>tip</th>\n",
              "      <th>tolls</th>\n",
              "      <th>total</th>\n",
              "      <th>color</th>\n",
              "      <th>payment</th>\n",
              "      <th>pickup_zone</th>\n",
              "      <th>dropoff_zone</th>\n",
              "      <th>pickup_borough</th>\n",
              "      <th>dropoff_borough</th>\n",
              "      <th>pickup_time</th>\n",
              "    </tr>\n",
              "  </thead>\n",
              "  <tbody>\n",
              "    <tr>\n",
              "      <th>0</th>\n",
              "      <td>2019-03-23 20:21:09</td>\n",
              "      <td>2019-03-23 20:27:24</td>\n",
              "      <td>1</td>\n",
              "      <td>1.60</td>\n",
              "      <td>7.0</td>\n",
              "      <td>2.15</td>\n",
              "      <td>0.0</td>\n",
              "      <td>12.95</td>\n",
              "      <td>yellow</td>\n",
              "      <td>credit card</td>\n",
              "      <td>Lenox Hill West</td>\n",
              "      <td>UN/Turtle Bay South</td>\n",
              "      <td>Manhattan</td>\n",
              "      <td>Manhattan</td>\n",
              "      <td>2019-03-23 20:21:09</td>\n",
              "    </tr>\n",
              "    <tr>\n",
              "      <th>8</th>\n",
              "      <td>2019-03-23 11:48:50</td>\n",
              "      <td>2019-03-23 12:06:14</td>\n",
              "      <td>1</td>\n",
              "      <td>3.63</td>\n",
              "      <td>15.0</td>\n",
              "      <td>1.00</td>\n",
              "      <td>0.0</td>\n",
              "      <td>19.30</td>\n",
              "      <td>yellow</td>\n",
              "      <td>credit card</td>\n",
              "      <td>East Harlem South</td>\n",
              "      <td>Midtown Center</td>\n",
              "      <td>Manhattan</td>\n",
              "      <td>Manhattan</td>\n",
              "      <td>2019-03-23 11:48:50</td>\n",
              "    </tr>\n",
              "    <tr>\n",
              "      <th>17</th>\n",
              "      <td>2019-03-23 20:50:49</td>\n",
              "      <td>2019-03-23 21:02:07</td>\n",
              "      <td>1</td>\n",
              "      <td>2.60</td>\n",
              "      <td>10.5</td>\n",
              "      <td>2.00</td>\n",
              "      <td>0.0</td>\n",
              "      <td>16.30</td>\n",
              "      <td>yellow</td>\n",
              "      <td>credit card</td>\n",
              "      <td>Midtown Center</td>\n",
              "      <td>East Harlem South</td>\n",
              "      <td>Manhattan</td>\n",
              "      <td>Manhattan</td>\n",
              "      <td>2019-03-23 20:50:49</td>\n",
              "    </tr>\n",
              "    <tr>\n",
              "      <th>117</th>\n",
              "      <td>2019-03-23 09:39:25</td>\n",
              "      <td>2019-03-23 09:56:45</td>\n",
              "      <td>0</td>\n",
              "      <td>3.60</td>\n",
              "      <td>15.5</td>\n",
              "      <td>3.75</td>\n",
              "      <td>0.0</td>\n",
              "      <td>22.55</td>\n",
              "      <td>yellow</td>\n",
              "      <td>credit card</td>\n",
              "      <td>Yorkville East</td>\n",
              "      <td>Penn Station/Madison Sq West</td>\n",
              "      <td>Manhattan</td>\n",
              "      <td>Manhattan</td>\n",
              "      <td>2019-03-23 09:39:25</td>\n",
              "    </tr>\n",
              "    <tr>\n",
              "      <th>144</th>\n",
              "      <td>2019-03-23 18:35:01</td>\n",
              "      <td>2019-03-23 18:47:39</td>\n",
              "      <td>1</td>\n",
              "      <td>3.20</td>\n",
              "      <td>12.5</td>\n",
              "      <td>2.00</td>\n",
              "      <td>0.0</td>\n",
              "      <td>17.80</td>\n",
              "      <td>yellow</td>\n",
              "      <td>credit card</td>\n",
              "      <td>UN/Turtle Bay South</td>\n",
              "      <td>East Village</td>\n",
              "      <td>Manhattan</td>\n",
              "      <td>Manhattan</td>\n",
              "      <td>2019-03-23 18:35:01</td>\n",
              "    </tr>\n",
              "    <tr>\n",
              "      <th>...</th>\n",
              "      <td>...</td>\n",
              "      <td>...</td>\n",
              "      <td>...</td>\n",
              "      <td>...</td>\n",
              "      <td>...</td>\n",
              "      <td>...</td>\n",
              "      <td>...</td>\n",
              "      <td>...</td>\n",
              "      <td>...</td>\n",
              "      <td>...</td>\n",
              "      <td>...</td>\n",
              "      <td>...</td>\n",
              "      <td>...</td>\n",
              "      <td>...</td>\n",
              "      <td>...</td>\n",
              "    </tr>\n",
              "    <tr>\n",
              "      <th>6325</th>\n",
              "      <td>2019-03-23 20:52:40</td>\n",
              "      <td>2019-03-23 21:10:12</td>\n",
              "      <td>1</td>\n",
              "      <td>3.62</td>\n",
              "      <td>14.5</td>\n",
              "      <td>0.00</td>\n",
              "      <td>0.0</td>\n",
              "      <td>15.80</td>\n",
              "      <td>green</td>\n",
              "      <td>cash</td>\n",
              "      <td>Long Island City/Hunters Point</td>\n",
              "      <td>Steinway</td>\n",
              "      <td>Queens</td>\n",
              "      <td>Queens</td>\n",
              "      <td>2019-03-23 20:52:40</td>\n",
              "    </tr>\n",
              "    <tr>\n",
              "      <th>6331</th>\n",
              "      <td>2019-03-23 11:27:00</td>\n",
              "      <td>2019-03-23 12:20:11</td>\n",
              "      <td>1</td>\n",
              "      <td>7.67</td>\n",
              "      <td>28.0</td>\n",
              "      <td>0.00</td>\n",
              "      <td>0.0</td>\n",
              "      <td>28.00</td>\n",
              "      <td>green</td>\n",
              "      <td>cash</td>\n",
              "      <td>Jackson Heights</td>\n",
              "      <td>Maspeth</td>\n",
              "      <td>Queens</td>\n",
              "      <td>Queens</td>\n",
              "      <td>2019-03-23 11:27:00</td>\n",
              "    </tr>\n",
              "    <tr>\n",
              "      <th>6338</th>\n",
              "      <td>2019-03-23 18:05:38</td>\n",
              "      <td>2019-03-23 18:25:36</td>\n",
              "      <td>1</td>\n",
              "      <td>2.82</td>\n",
              "      <td>14.0</td>\n",
              "      <td>0.00</td>\n",
              "      <td>0.0</td>\n",
              "      <td>14.80</td>\n",
              "      <td>green</td>\n",
              "      <td>credit card</td>\n",
              "      <td>Claremont/Bathgate</td>\n",
              "      <td>Spuyten Duyvil/Kingsbridge</td>\n",
              "      <td>Bronx</td>\n",
              "      <td>Bronx</td>\n",
              "      <td>2019-03-23 18:05:38</td>\n",
              "    </tr>\n",
              "    <tr>\n",
              "      <th>6427</th>\n",
              "      <td>2019-03-23 18:26:09</td>\n",
              "      <td>2019-03-23 18:49:12</td>\n",
              "      <td>1</td>\n",
              "      <td>7.07</td>\n",
              "      <td>20.0</td>\n",
              "      <td>0.00</td>\n",
              "      <td>0.0</td>\n",
              "      <td>20.00</td>\n",
              "      <td>green</td>\n",
              "      <td>cash</td>\n",
              "      <td>Parkchester</td>\n",
              "      <td>East Harlem South</td>\n",
              "      <td>Bronx</td>\n",
              "      <td>Manhattan</td>\n",
              "      <td>2019-03-23 18:26:09</td>\n",
              "    </tr>\n",
              "    <tr>\n",
              "      <th>6430</th>\n",
              "      <td>2019-03-23 22:55:18</td>\n",
              "      <td>2019-03-23 23:14:25</td>\n",
              "      <td>1</td>\n",
              "      <td>4.14</td>\n",
              "      <td>16.0</td>\n",
              "      <td>0.00</td>\n",
              "      <td>0.0</td>\n",
              "      <td>17.30</td>\n",
              "      <td>green</td>\n",
              "      <td>cash</td>\n",
              "      <td>Crown Heights North</td>\n",
              "      <td>Bushwick North</td>\n",
              "      <td>Brooklyn</td>\n",
              "      <td>Brooklyn</td>\n",
              "      <td>2019-03-23 22:55:18</td>\n",
              "    </tr>\n",
              "  </tbody>\n",
              "</table>\n",
              "<p>209 rows × 15 columns</p>\n",
              "</div>"
            ],
            "text/plain": [
              "                   pickup              dropoff  passengers  distance  fare  \\\n",
              "0     2019-03-23 20:21:09  2019-03-23 20:27:24           1      1.60   7.0   \n",
              "8     2019-03-23 11:48:50  2019-03-23 12:06:14           1      3.63  15.0   \n",
              "17    2019-03-23 20:50:49  2019-03-23 21:02:07           1      2.60  10.5   \n",
              "117   2019-03-23 09:39:25  2019-03-23 09:56:45           0      3.60  15.5   \n",
              "144   2019-03-23 18:35:01  2019-03-23 18:47:39           1      3.20  12.5   \n",
              "...                   ...                  ...         ...       ...   ...   \n",
              "6325  2019-03-23 20:52:40  2019-03-23 21:10:12           1      3.62  14.5   \n",
              "6331  2019-03-23 11:27:00  2019-03-23 12:20:11           1      7.67  28.0   \n",
              "6338  2019-03-23 18:05:38  2019-03-23 18:25:36           1      2.82  14.0   \n",
              "6427  2019-03-23 18:26:09  2019-03-23 18:49:12           1      7.07  20.0   \n",
              "6430  2019-03-23 22:55:18  2019-03-23 23:14:25           1      4.14  16.0   \n",
              "\n",
              "       tip  tolls  total   color      payment                     pickup_zone  \\\n",
              "0     2.15    0.0  12.95  yellow  credit card                 Lenox Hill West   \n",
              "8     1.00    0.0  19.30  yellow  credit card               East Harlem South   \n",
              "17    2.00    0.0  16.30  yellow  credit card                  Midtown Center   \n",
              "117   3.75    0.0  22.55  yellow  credit card                  Yorkville East   \n",
              "144   2.00    0.0  17.80  yellow  credit card             UN/Turtle Bay South   \n",
              "...    ...    ...    ...     ...          ...                             ...   \n",
              "6325  0.00    0.0  15.80   green         cash  Long Island City/Hunters Point   \n",
              "6331  0.00    0.0  28.00   green         cash                 Jackson Heights   \n",
              "6338  0.00    0.0  14.80   green  credit card              Claremont/Bathgate   \n",
              "6427  0.00    0.0  20.00   green         cash                     Parkchester   \n",
              "6430  0.00    0.0  17.30   green         cash             Crown Heights North   \n",
              "\n",
              "                      dropoff_zone pickup_borough dropoff_borough  \\\n",
              "0              UN/Turtle Bay South      Manhattan       Manhattan   \n",
              "8                   Midtown Center      Manhattan       Manhattan   \n",
              "17               East Harlem South      Manhattan       Manhattan   \n",
              "117   Penn Station/Madison Sq West      Manhattan       Manhattan   \n",
              "144                   East Village      Manhattan       Manhattan   \n",
              "...                            ...            ...             ...   \n",
              "6325                      Steinway         Queens          Queens   \n",
              "6331                       Maspeth         Queens          Queens   \n",
              "6338    Spuyten Duyvil/Kingsbridge          Bronx           Bronx   \n",
              "6427             East Harlem South          Bronx       Manhattan   \n",
              "6430                Bushwick North       Brooklyn        Brooklyn   \n",
              "\n",
              "             pickup_time  \n",
              "0    2019-03-23 20:21:09  \n",
              "8    2019-03-23 11:48:50  \n",
              "17   2019-03-23 20:50:49  \n",
              "117  2019-03-23 09:39:25  \n",
              "144  2019-03-23 18:35:01  \n",
              "...                  ...  \n",
              "6325 2019-03-23 20:52:40  \n",
              "6331 2019-03-23 11:27:00  \n",
              "6338 2019-03-23 18:05:38  \n",
              "6427 2019-03-23 18:26:09  \n",
              "6430 2019-03-23 22:55:18  \n",
              "\n",
              "[209 rows x 15 columns]"
            ]
          },
          "execution_count": 21,
          "metadata": {},
          "output_type": "execute_result"
        }
      ],
      "source": [
        "mask = (df_taxis['pickup_time'] > \"2019-03-23 00:06:00\") & (df_taxis['pickup_time'] < \"2019-03-24 00:00:00\")\n",
        "df_timed = df_taxis.loc[mask]\n",
        "df_timed"
      ]
    },
    {
      "cell_type": "markdown",
      "metadata": {
        "id": "k9ErqDN-cf84"
      },
      "source": [
        "10. From the dataframe in Question 9, take the mean of the numeric columns, grouped at one hour intervals.  Save the result as df_means, and display it."
      ]
    },
    {
      "cell_type": "code",
      "execution_count": 22,
      "metadata": {
        "id": "Ul7rGs1bbjC8"
      },
      "outputs": [
        {
          "data": {
            "text/html": [
              "<div>\n",
              "<style scoped>\n",
              "    .dataframe tbody tr th:only-of-type {\n",
              "        vertical-align: middle;\n",
              "    }\n",
              "\n",
              "    .dataframe tbody tr th {\n",
              "        vertical-align: top;\n",
              "    }\n",
              "\n",
              "    .dataframe thead th {\n",
              "        text-align: right;\n",
              "    }\n",
              "</style>\n",
              "<table border=\"1\" class=\"dataframe\">\n",
              "  <thead>\n",
              "    <tr style=\"text-align: right;\">\n",
              "      <th></th>\n",
              "      <th>passengers</th>\n",
              "      <th>distance</th>\n",
              "      <th>fare</th>\n",
              "      <th>tip</th>\n",
              "      <th>tolls</th>\n",
              "      <th>total</th>\n",
              "    </tr>\n",
              "    <tr>\n",
              "      <th>pickup_time</th>\n",
              "      <th></th>\n",
              "      <th></th>\n",
              "      <th></th>\n",
              "      <th></th>\n",
              "      <th></th>\n",
              "      <th></th>\n",
              "    </tr>\n",
              "  </thead>\n",
              "  <tbody>\n",
              "    <tr>\n",
              "      <th>0</th>\n",
              "      <td>1.000000</td>\n",
              "      <td>1.911667</td>\n",
              "      <td>8.583333</td>\n",
              "      <td>1.415000</td>\n",
              "      <td>0.000000</td>\n",
              "      <td>12.965000</td>\n",
              "    </tr>\n",
              "    <tr>\n",
              "      <th>1</th>\n",
              "      <td>1.250000</td>\n",
              "      <td>1.325000</td>\n",
              "      <td>7.875000</td>\n",
              "      <td>1.525000</td>\n",
              "      <td>0.000000</td>\n",
              "      <td>12.575000</td>\n",
              "    </tr>\n",
              "    <tr>\n",
              "      <th>2</th>\n",
              "      <td>1.727273</td>\n",
              "      <td>1.739091</td>\n",
              "      <td>8.181818</td>\n",
              "      <td>1.641818</td>\n",
              "      <td>0.000000</td>\n",
              "      <td>13.169091</td>\n",
              "    </tr>\n",
              "    <tr>\n",
              "      <th>3</th>\n",
              "      <td>1.500000</td>\n",
              "      <td>3.377500</td>\n",
              "      <td>11.750000</td>\n",
              "      <td>2.410000</td>\n",
              "      <td>0.000000</td>\n",
              "      <td>17.335000</td>\n",
              "    </tr>\n",
              "    <tr>\n",
              "      <th>4</th>\n",
              "      <td>2.000000</td>\n",
              "      <td>0.950000</td>\n",
              "      <td>5.500000</td>\n",
              "      <td>0.915000</td>\n",
              "      <td>0.000000</td>\n",
              "      <td>10.215000</td>\n",
              "    </tr>\n",
              "    <tr>\n",
              "      <th>5</th>\n",
              "      <td>2.000000</td>\n",
              "      <td>1.270000</td>\n",
              "      <td>6.000000</td>\n",
              "      <td>0.980000</td>\n",
              "      <td>0.000000</td>\n",
              "      <td>10.530000</td>\n",
              "    </tr>\n",
              "    <tr>\n",
              "      <th>6</th>\n",
              "      <td>1.000000</td>\n",
              "      <td>0.400000</td>\n",
              "      <td>21.500000</td>\n",
              "      <td>0.000000</td>\n",
              "      <td>0.000000</td>\n",
              "      <td>23.133333</td>\n",
              "    </tr>\n",
              "    <tr>\n",
              "      <th>7</th>\n",
              "      <td>2.333333</td>\n",
              "      <td>0.980000</td>\n",
              "      <td>5.250000</td>\n",
              "      <td>1.165000</td>\n",
              "      <td>0.000000</td>\n",
              "      <td>9.298333</td>\n",
              "    </tr>\n",
              "    <tr>\n",
              "      <th>8</th>\n",
              "      <td>1.000000</td>\n",
              "      <td>0.020000</td>\n",
              "      <td>2.500000</td>\n",
              "      <td>0.000000</td>\n",
              "      <td>0.000000</td>\n",
              "      <td>3.300000</td>\n",
              "    </tr>\n",
              "    <tr>\n",
              "      <th>9</th>\n",
              "      <td>1.500000</td>\n",
              "      <td>1.352000</td>\n",
              "      <td>7.400000</td>\n",
              "      <td>1.674000</td>\n",
              "      <td>0.000000</td>\n",
              "      <td>12.124000</td>\n",
              "    </tr>\n",
              "    <tr>\n",
              "      <th>10</th>\n",
              "      <td>1.000000</td>\n",
              "      <td>1.760000</td>\n",
              "      <td>8.750000</td>\n",
              "      <td>0.727500</td>\n",
              "      <td>0.000000</td>\n",
              "      <td>12.152500</td>\n",
              "    </tr>\n",
              "    <tr>\n",
              "      <th>11</th>\n",
              "      <td>1.909091</td>\n",
              "      <td>2.070000</td>\n",
              "      <td>11.090909</td>\n",
              "      <td>0.803636</td>\n",
              "      <td>0.000000</td>\n",
              "      <td>14.667273</td>\n",
              "    </tr>\n",
              "    <tr>\n",
              "      <th>12</th>\n",
              "      <td>2.000000</td>\n",
              "      <td>2.267143</td>\n",
              "      <td>10.260000</td>\n",
              "      <td>0.645714</td>\n",
              "      <td>0.000000</td>\n",
              "      <td>13.420000</td>\n",
              "    </tr>\n",
              "    <tr>\n",
              "      <th>13</th>\n",
              "      <td>2.500000</td>\n",
              "      <td>1.167000</td>\n",
              "      <td>7.550000</td>\n",
              "      <td>2.074000</td>\n",
              "      <td>0.000000</td>\n",
              "      <td>12.344000</td>\n",
              "    </tr>\n",
              "    <tr>\n",
              "      <th>14</th>\n",
              "      <td>2.470588</td>\n",
              "      <td>4.752941</td>\n",
              "      <td>18.330000</td>\n",
              "      <td>1.945294</td>\n",
              "      <td>1.003529</td>\n",
              "      <td>24.267059</td>\n",
              "    </tr>\n",
              "    <tr>\n",
              "      <th>15</th>\n",
              "      <td>1.000000</td>\n",
              "      <td>6.557143</td>\n",
              "      <td>22.214286</td>\n",
              "      <td>3.210000</td>\n",
              "      <td>1.645714</td>\n",
              "      <td>30.370000</td>\n",
              "    </tr>\n",
              "    <tr>\n",
              "      <th>16</th>\n",
              "      <td>2.000000</td>\n",
              "      <td>2.194545</td>\n",
              "      <td>10.454545</td>\n",
              "      <td>1.109091</td>\n",
              "      <td>0.000000</td>\n",
              "      <td>14.431818</td>\n",
              "    </tr>\n",
              "    <tr>\n",
              "      <th>17</th>\n",
              "      <td>1.090909</td>\n",
              "      <td>1.913636</td>\n",
              "      <td>14.818182</td>\n",
              "      <td>2.688182</td>\n",
              "      <td>0.523636</td>\n",
              "      <td>20.739091</td>\n",
              "    </tr>\n",
              "    <tr>\n",
              "      <th>18</th>\n",
              "      <td>1.571429</td>\n",
              "      <td>3.206429</td>\n",
              "      <td>12.821429</td>\n",
              "      <td>0.844286</td>\n",
              "      <td>0.411429</td>\n",
              "      <td>16.427143</td>\n",
              "    </tr>\n",
              "    <tr>\n",
              "      <th>19</th>\n",
              "      <td>1.526316</td>\n",
              "      <td>2.097895</td>\n",
              "      <td>10.263158</td>\n",
              "      <td>1.176316</td>\n",
              "      <td>0.000000</td>\n",
              "      <td>14.226316</td>\n",
              "    </tr>\n",
              "    <tr>\n",
              "      <th>20</th>\n",
              "      <td>1.400000</td>\n",
              "      <td>2.448000</td>\n",
              "      <td>11.100000</td>\n",
              "      <td>1.544000</td>\n",
              "      <td>0.000000</td>\n",
              "      <td>15.944000</td>\n",
              "    </tr>\n",
              "    <tr>\n",
              "      <th>21</th>\n",
              "      <td>1.000000</td>\n",
              "      <td>2.017143</td>\n",
              "      <td>10.571429</td>\n",
              "      <td>1.420000</td>\n",
              "      <td>0.000000</td>\n",
              "      <td>15.791429</td>\n",
              "    </tr>\n",
              "    <tr>\n",
              "      <th>22</th>\n",
              "      <td>1.307692</td>\n",
              "      <td>1.881538</td>\n",
              "      <td>8.923077</td>\n",
              "      <td>1.094615</td>\n",
              "      <td>0.000000</td>\n",
              "      <td>13.433077</td>\n",
              "    </tr>\n",
              "    <tr>\n",
              "      <th>23</th>\n",
              "      <td>1.615385</td>\n",
              "      <td>3.725385</td>\n",
              "      <td>15.115385</td>\n",
              "      <td>1.696154</td>\n",
              "      <td>0.000000</td>\n",
              "      <td>20.034615</td>\n",
              "    </tr>\n",
              "  </tbody>\n",
              "</table>\n",
              "</div>"
            ],
            "text/plain": [
              "             passengers  distance       fare       tip     tolls      total\n",
              "pickup_time                                                                \n",
              "0              1.000000  1.911667   8.583333  1.415000  0.000000  12.965000\n",
              "1              1.250000  1.325000   7.875000  1.525000  0.000000  12.575000\n",
              "2              1.727273  1.739091   8.181818  1.641818  0.000000  13.169091\n",
              "3              1.500000  3.377500  11.750000  2.410000  0.000000  17.335000\n",
              "4              2.000000  0.950000   5.500000  0.915000  0.000000  10.215000\n",
              "5              2.000000  1.270000   6.000000  0.980000  0.000000  10.530000\n",
              "6              1.000000  0.400000  21.500000  0.000000  0.000000  23.133333\n",
              "7              2.333333  0.980000   5.250000  1.165000  0.000000   9.298333\n",
              "8              1.000000  0.020000   2.500000  0.000000  0.000000   3.300000\n",
              "9              1.500000  1.352000   7.400000  1.674000  0.000000  12.124000\n",
              "10             1.000000  1.760000   8.750000  0.727500  0.000000  12.152500\n",
              "11             1.909091  2.070000  11.090909  0.803636  0.000000  14.667273\n",
              "12             2.000000  2.267143  10.260000  0.645714  0.000000  13.420000\n",
              "13             2.500000  1.167000   7.550000  2.074000  0.000000  12.344000\n",
              "14             2.470588  4.752941  18.330000  1.945294  1.003529  24.267059\n",
              "15             1.000000  6.557143  22.214286  3.210000  1.645714  30.370000\n",
              "16             2.000000  2.194545  10.454545  1.109091  0.000000  14.431818\n",
              "17             1.090909  1.913636  14.818182  2.688182  0.523636  20.739091\n",
              "18             1.571429  3.206429  12.821429  0.844286  0.411429  16.427143\n",
              "19             1.526316  2.097895  10.263158  1.176316  0.000000  14.226316\n",
              "20             1.400000  2.448000  11.100000  1.544000  0.000000  15.944000\n",
              "21             1.000000  2.017143  10.571429  1.420000  0.000000  15.791429\n",
              "22             1.307692  1.881538   8.923077  1.094615  0.000000  13.433077\n",
              "23             1.615385  3.725385  15.115385  1.696154  0.000000  20.034615"
            ]
          },
          "execution_count": 22,
          "metadata": {},
          "output_type": "execute_result"
        }
      ],
      "source": [
        "df_timed.groupby([df_timed[\"pickup_time\"].dt.hour]).mean()"
      ]
    },
    {
      "cell_type": "markdown",
      "metadata": {
        "id": "gGLHwogaZX0-"
      },
      "source": [
        "Check https://colab.research.google.com/github/CodeSolid/CodeSolid.github.io/blob/main/booksource/exercises/PandasExercises.ipynb for more Pandas exercises."
      ]
    },
    {
      "cell_type": "code",
      "execution_count": null,
      "metadata": {
        "id": "Yag0a9H7ZbQe"
      },
      "outputs": [],
      "source": []
    }
  ],
  "metadata": {
    "colab": {
      "collapsed_sections": [],
      "name": "Week1_Exercises.ipynb",
      "provenance": []
    },
    "interpreter": {
      "hash": "9d60d1791a39080a9918029cbe1623c36f711b141f01a9c04b2c3274d89db7b6"
    },
    "kernelspec": {
      "display_name": "Python 3.7.7 ('django')",
      "language": "python",
      "name": "python3"
    },
    "language_info": {
      "codemirror_mode": {
        "name": "ipython",
        "version": 3
      },
      "file_extension": ".py",
      "mimetype": "text/x-python",
      "name": "python",
      "nbconvert_exporter": "python",
      "pygments_lexer": "ipython3",
      "version": "3.7.7"
    }
  },
  "nbformat": 4,
  "nbformat_minor": 0
}
