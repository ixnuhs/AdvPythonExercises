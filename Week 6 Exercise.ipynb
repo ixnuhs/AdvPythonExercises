{
  "cells": [
    {
      "cell_type": "code",
      "execution_count": 3,
      "metadata": {
        "id": "ewKb0DoQUtZC"
      },
      "outputs": [],
      "source": [
        "from multiprocessing import Pool\n",
        "from lxml import etree\n",
        "import aiohttp\n",
        "import asyncio\n",
        "import time"
      ]
    },
    {
      "cell_type": "code",
      "execution_count": 4,
      "metadata": {
        "id": "Kt_f159fOk7o"
      },
      "outputs": [],
      "source": [
        "!pip install nest_asyncio --quiet\n",
        "import nest_asyncio\n",
        "nest_asyncio.apply()"
      ]
    },
    {
      "cell_type": "markdown",
      "metadata": {
        "id": "t4a2mLx-Jy4x"
      },
      "source": [
        "Exercise: Use async for http requests and multiprocessing for parsing html. Compare the performance with the practices in the lecture note\n",
        "\n"
      ]
    },
    {
      "cell_type": "code",
      "execution_count": 11,
      "metadata": {
        "id": "yfSBgnkbJv3j"
      },
      "outputs": [],
      "source": [
        "urls = ['https://arxiv.org/abs/2201.000%02d'%i for i in range(1, 5)]"
      ]
    },
    {
      "cell_type": "code",
      "execution_count": 6,
      "metadata": {
        "id": "3Fp7Rb3rKJZR"
      },
      "outputs": [],
      "source": [
        "htmls: list\n",
        "async def get_html(url):\n",
        "      async with aiohttp.ClientSession() as session:\n",
        "          async with session.request('GET', url) as resp:\n",
        "              html = await resp.read()\n",
        "              htmls.append(html)\n",
        "\n",
        "def parse_html(html, cnt):\n",
        "  title = etree.HTML(html).xpath('//h1[contains(@class, \"title\")]/text()')\n",
        "  print('Title %d: %s' % (cnt,''.join(title)))"
      ]
    },
    {
      "cell_type": "markdown",
      "metadata": {
        "id": "laBCHpe8Njhb"
      },
      "source": [
        "Complete the following routines"
      ]
    },
    {
      "cell_type": "code",
      "execution_count": 13,
      "metadata": {
        "id": "CnJNOL5QM514"
      },
      "outputs": [],
      "source": [
        "def main_get_html():\n",
        "  '''\n",
        "  use asyncio\n",
        "  '''\n",
        "  loop = asyncio.get_event_loop()\n",
        "  # tasks = [get_html(url) for url in urls]\n",
        "  # loop.run_until_complete(asyncio.wait(tasks))\n",
        "  for url in urls:\n",
        "    loop.run_until_complete(get_html(url))\n",
        "\n",
        "\n",
        "import multiprocessing\n",
        "from multiprocessing import Pool\n",
        "multiprocessing.cpu_count()\n",
        "\n",
        "def main_parse_html():\n",
        "  '''\n",
        "  use multiprocessing\n",
        "  '''\n",
        "  # p = Pool(2)\n",
        "  # for i, html in enumerate(htmls):\n",
        "  #     p.apply_async(parse_html, args=(html, i))\n",
        "  # p.close()\n",
        "  # p.join()\n",
        "  for i, html in enumerate(htmls):\n",
        "      i = i + 1\n",
        "      # start = time.time()\n",
        "      parse_html(html,i) "
      ]
    },
    {
      "cell_type": "code",
      "execution_count": 15,
      "metadata": {},
      "outputs": [
        {
          "data": {
            "text/plain": [
              "8"
            ]
          },
          "execution_count": 15,
          "metadata": {},
          "output_type": "execute_result"
        }
      ],
      "source": [
        "multiprocessing.cpu_count()"
      ]
    },
    {
      "cell_type": "code",
      "execution_count": 14,
      "metadata": {
        "colab": {
          "base_uri": "https://localhost:8080/"
        },
        "id": "M_1sW-ibNSOt",
        "outputId": "4fd62ee1-b36c-484b-afed-8346f6c2a975"
      },
      "outputs": [
        {
          "name": "stdout",
          "output_type": "stream",
          "text": [
            "Title 1: Modeling Advection on Directed Graphs using Matérn Gaussian Processes for Traffic Flow\n",
            "Title 2: Time-Dependent Duhamel Renormalization method with Multiple Conservation and Dissipation Laws\n",
            "Title 3: Simulating local fields in carbon nanotube reinforced composites for infinite strip with voids\n",
            "Title 4: Robust reliability-based topology optimization under random-field material model\n",
            "Wall time: 1.41 s\n"
          ]
        }
      ],
      "source": [
        "%%time\n",
        "htmls = []\n",
        "main_get_html()\n",
        "main_parse_html()"
      ]
    },
    {
      "cell_type": "code",
      "execution_count": null,
      "metadata": {},
      "outputs": [],
      "source": [
        "%%time\n",
        "htmls = []\n",
        "main_parse_html()"
      ]
    },
    {
      "cell_type": "markdown",
      "metadata": {
        "id": "NfLB7MxxQXgN"
      },
      "source": [
        "How about using multi threads for parsing html? Try it out"
      ]
    },
    {
      "cell_type": "code",
      "execution_count": null,
      "metadata": {
        "id": "IdXJJ4FxQW4z"
      },
      "outputs": [],
      "source": [
        "import threading"
      ]
    }
  ],
  "metadata": {
    "colab": {
      "collapsed_sections": [],
      "provenance": []
    },
    "kernelspec": {
      "display_name": "Python 3.7.7 ('django')",
      "language": "python",
      "name": "python3"
    },
    "language_info": {
      "codemirror_mode": {
        "name": "ipython",
        "version": 3
      },
      "file_extension": ".py",
      "mimetype": "text/x-python",
      "name": "python",
      "nbconvert_exporter": "python",
      "pygments_lexer": "ipython3",
      "version": "3.7.7"
    },
    "vscode": {
      "interpreter": {
        "hash": "9d60d1791a39080a9918029cbe1623c36f711b141f01a9c04b2c3274d89db7b6"
      }
    }
  },
  "nbformat": 4,
  "nbformat_minor": 0
}
